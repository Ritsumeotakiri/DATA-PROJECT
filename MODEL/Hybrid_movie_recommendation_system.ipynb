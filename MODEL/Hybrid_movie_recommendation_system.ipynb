{
  "cells": [
    {
      "cell_type": "code",
      "source": [
        "!pip uninstall numpy -y\n",
        "!pip install numpy==1.23.5\n",
        "!pip install scikit-surprise --upgrade\n"
      ],
      "metadata": {
        "colab": {
          "base_uri": "https://localhost:8080/",
          "height": 443
        },
        "id": "WzsDyGIuZhxo",
        "outputId": "337592f2-1a0f-4d9b-cbad-eead6f01555d"
      },
      "execution_count": 1,
      "outputs": [
        {
          "output_type": "stream",
          "name": "stdout",
          "text": [
            "Found existing installation: numpy 1.23.5\n",
            "Uninstalling numpy-1.23.5:\n",
            "  Successfully uninstalled numpy-1.23.5\n",
            "Collecting numpy==1.23.5\n",
            "  Using cached numpy-1.23.5-cp311-cp311-manylinux_2_17_x86_64.manylinux2014_x86_64.whl.metadata (2.3 kB)\n",
            "Using cached numpy-1.23.5-cp311-cp311-manylinux_2_17_x86_64.manylinux2014_x86_64.whl (17.1 MB)\n",
            "Installing collected packages: numpy\n",
            "\u001b[31mERROR: pip's dependency resolver does not currently take into account all the packages that are installed. This behaviour is the source of the following dependency conflicts.\n",
            "jax 0.5.2 requires numpy>=1.25, but you have numpy 1.23.5 which is incompatible.\n",
            "jaxlib 0.5.1 requires numpy>=1.25, but you have numpy 1.23.5 which is incompatible.\n",
            "numba 0.61.0 requires numpy<2.2,>=1.24, but you have numpy 1.23.5 which is incompatible.\n",
            "chex 0.1.89 requires numpy>=1.24.1, but you have numpy 1.23.5 which is incompatible.\n",
            "treescope 0.1.9 requires numpy>=1.25.2, but you have numpy 1.23.5 which is incompatible.\n",
            "scikit-image 0.25.2 requires numpy>=1.24, but you have numpy 1.23.5 which is incompatible.\u001b[0m\u001b[31m\n",
            "\u001b[0mSuccessfully installed numpy-1.23.5\n"
          ]
        },
        {
          "output_type": "display_data",
          "data": {
            "application/vnd.colab-display-data+json": {
              "pip_warning": {
                "packages": [
                  "numpy"
                ]
              },
              "id": "75a2b64e31d341c39f6995818f9a21ba"
            }
          },
          "metadata": {}
        },
        {
          "output_type": "stream",
          "name": "stdout",
          "text": [
            "Requirement already satisfied: scikit-surprise in /usr/local/lib/python3.11/dist-packages (1.1.4)\n",
            "Requirement already satisfied: joblib>=1.2.0 in /usr/local/lib/python3.11/dist-packages (from scikit-surprise) (1.4.2)\n",
            "Requirement already satisfied: numpy>=1.19.5 in /usr/local/lib/python3.11/dist-packages (from scikit-surprise) (1.23.5)\n",
            "Requirement already satisfied: scipy>=1.6.0 in /usr/local/lib/python3.11/dist-packages (from scikit-surprise) (1.14.1)\n"
          ]
        }
      ]
    },
    {
      "cell_type": "code",
      "source": [
        "from surprise import Reader, Dataset, SVD\n",
        "from surprise.model_selection import train_test_split\n"
      ],
      "metadata": {
        "id": "StZSOiLbaIA7"
      },
      "execution_count": 1,
      "outputs": []
    },
    {
      "cell_type": "code",
      "execution_count": 2,
      "metadata": {
        "id": "wp2_KLyzYHWm"
      },
      "outputs": [],
      "source": [
        "import pandas as pd\n",
        "import numpy as np\n",
        "from sklearn.metrics.pairwise import cosine_similarity\n",
        "from sklearn.feature_extraction.text import TfidfVectorizer\n",
        "from surprise import Reader, Dataset, SVD\n",
        "from surprise.model_selection import train_test_split\n"
      ]
    },
    {
      "cell_type": "code",
      "execution_count": 3,
      "metadata": {
        "id": "9hjgbvvPYKW2"
      },
      "outputs": [],
      "source": [
        "movies = pd.read_csv('/content/movies.csv')\n",
        "ratings = pd.read_csv('/content/ratings.csv')  # this file you need from MovieLens or your dataset\n"
      ]
    },
    {
      "cell_type": "code",
      "source": [
        "movies['genres'] = movies['genres'].str.replace('|', ' ', regex=False)\n",
        "ratings = ratings[['userId', 'movieId', 'rating']]\n"
      ],
      "metadata": {
        "id": "mDqO6oDBdL02"
      },
      "execution_count": 4,
      "outputs": []
    },
    {
      "cell_type": "code",
      "execution_count": 5,
      "metadata": {
        "id": "d4pyvHnuYOiO"
      },
      "outputs": [],
      "source": [
        "# Prepare Movies Data\n",
        "movies['genres'] = movies['genres'].str.replace('|', ' ', regex=False)\n",
        "\n",
        "# Prepare Ratings Data (Collaborative Filtering)\n",
        "ratings = ratings[['userId', 'movieId', 'rating']]\n"
      ]
    },
    {
      "cell_type": "code",
      "execution_count": 6,
      "metadata": {
        "id": "jX5Uh45vYPxB",
        "colab": {
          "base_uri": "https://localhost:8080/"
        },
        "outputId": "61b9d630-d119-43d1-bec5-45f7284662d9"
      },
      "outputs": [
        {
          "output_type": "stream",
          "name": "stdout",
          "text": [
            "2203                                           Antz (1998)\n",
            "3021                                    Toy Story 2 (1999)\n",
            "3653        Adventures of Rocky and Bullwinkle, The (2000)\n",
            "3912                      Emperor's New Groove, The (2000)\n",
            "4780                                 Monsters, Inc. (2001)\n",
            "9949     DuckTales: The Movie - Treasure of the Lost La...\n",
            "10773                                     Wild, The (2006)\n",
            "11604                               Shrek the Third (2007)\n",
            "12969                       Tale of Despereaux, The (2008)\n",
            "17431    Asterix and the Vikings (Astérix et les Viking...\n",
            "Name: title, dtype: object\n"
          ]
        }
      ],
      "source": [
        "# TF-IDF Vectorization\n",
        "tfidf = TfidfVectorizer(stop_words='english')\n",
        "tfidf_matrix = tfidf.fit_transform(movies['genres'])\n",
        "\n",
        "# Calculate Cosine Similarity\n",
        "cosine_sim = cosine_similarity(tfidf_matrix, tfidf_matrix)\n",
        "\n",
        "# Movie indices\n",
        "indices = pd.Series(movies.index, index=movies['title']).drop_duplicates()\n",
        "\n",
        "# Content-based recommendation function\n",
        "def get_content_recommendations(title, cosine_sim=cosine_sim):\n",
        "    idx = indices[title]\n",
        "    sim_scores = list(enumerate(cosine_sim[idx]))\n",
        "    sim_scores = sorted(sim_scores, key=lambda x: x[1], reverse=True)[1:11]\n",
        "    movie_indices = [i[0] for i in sim_scores]\n",
        "    return movies['title'].iloc[movie_indices]\n",
        "\n",
        "# Example Usage:\n",
        "print(get_content_recommendations('Toy Story (1995)'))\n"
      ]
    },
    {
      "cell_type": "code",
      "execution_count": 7,
      "metadata": {
        "id": "CKBfXiJQYWpm",
        "colab": {
          "base_uri": "https://localhost:8080/"
        },
        "outputId": "42472648-eb70-4d93-e9fc-ad2385d7dec5"
      },
      "outputs": [
        {
          "output_type": "stream",
          "name": "stdout",
          "text": [
            "Predicted rating: 3.8277376887176113\n"
          ]
        }
      ],
      "source": [
        "# Surprise library dataset preparation\n",
        "reader = Reader(rating_scale=(ratings.rating.min(), ratings.rating.max()))\n",
        "data = Dataset.load_from_df(ratings[['userId', 'movieId', 'rating']], reader)\n",
        "\n",
        "# Split data into train and test\n",
        "trainset, testset = train_test_split(data, test_size=0.25)\n",
        "\n",
        "# SVD Model (Collaborative Filtering)\n",
        "svd = SVD()\n",
        "svd.fit(trainset)\n",
        "\n",
        "# Example prediction (userId=1, movieId=1)\n",
        "print(\"Predicted rating:\", svd.predict(uid=1, iid=1).est)\n"
      ]
    },
    {
      "cell_type": "code",
      "execution_count": 13,
      "metadata": {
        "id": "wgFig4EXYjVg",
        "colab": {
          "base_uri": "https://localhost:8080/"
        },
        "outputId": "37203246-1caf-4c90-e2d2-e3a7cd482ae3"
      },
      "outputs": [
        {
          "output_type": "stream",
          "name": "stdout",
          "text": [
            "✅ Selected Movie: Spider-Man (2002)\n",
            "\n",
            "🎬 Recommendations:\n",
            "                                               title  hybrid_score\n",
            "0                                Blade Runner (1982)      0.867739\n",
            "1                       2001: A Space Odyssey (1968)      0.850207\n",
            "2                             Children of Men (2006)      0.842008\n",
            "3          Star Wars: Episode IV - A New Hope (1977)      0.814023\n",
            "4                                    Serenity (2005)      0.810500\n",
            "5  Star Wars: Episode V - The Empire Strikes Back...      0.799526\n",
            "6  Stargate SG-1 Children of the Gods - Final Cut...      0.796850\n",
            "7                           Time Machine, The (1960)      0.792053\n",
            "8                                 The Martian (2015)      0.791123\n",
            "9                            Mad Max Renegade (2011)      0.790928\n"
          ]
        }
      ],
      "source": [
        "def hybrid_movie_recommendation(user_id, movie_title_partial, alpha=0.7, top_n=10):\n",
        "    # Partial match of movie title (case-insensitive)\n",
        "    matched_movies = movies[movies['title'].str.contains(movie_title_partial, case=False, regex=False)]\n",
        "\n",
        "    if matched_movies.empty:\n",
        "        return \"No matching movies found. Please try again with another title.\"\n",
        "\n",
        "    # Take the best matching movie\n",
        "    selected_movie_title = matched_movies.iloc[0]['title']\n",
        "    idx = indices[selected_movie_title]\n",
        "\n",
        "    content_scores = cosine_sim[idx]\n",
        "\n",
        "    movie_ids = movies['movieId'].values\n",
        "    cf_scores = np.array([svd.predict(user_id, movie_id).est for movie_id in movie_ids])\n",
        "\n",
        "    content_scores_norm = (content_scores - content_scores.min()) / (content_scores.max() - content_scores.min())\n",
        "    cf_scores_norm = (cf_scores - cf_scores.min()) / (cf_scores.max() - cf_scores.min())\n",
        "\n",
        "    hybrid_scores = alpha * cf_scores_norm + (1 - alpha) * content_scores_norm\n",
        "\n",
        "    recommendations_df = pd.DataFrame({\n",
        "        'title': movies['title'],\n",
        "        'hybrid_score': hybrid_scores\n",
        "    }).sort_values(by='hybrid_score', ascending=False)\n",
        "\n",
        "    recommendations_df = recommendations_df[recommendations_df['title'] != selected_movie_title]\n",
        "\n",
        "    return {\n",
        "        'selected_movie': selected_movie_title,\n",
        "        'recommendations': recommendations_df.head(top_n).reset_index(drop=True)\n",
        "    }\n",
        "\n",
        "# Example usage:\n",
        "result = hybrid_movie_recommendation(user_id=100, movie_title_partial='Spider-man')\n",
        "\n",
        "print(\"✅ Selected Movie:\", result['selected_movie'])\n",
        "print(\"\\n🎬 Recommendations:\")\n",
        "print(result['recommendations'])\n"
      ]
    }
  ],
  "metadata": {
    "accelerator": "TPU",
    "colab": {
      "gpuType": "V28",
      "provenance": []
    },
    "kernelspec": {
      "display_name": "Python 3",
      "name": "python3"
    },
    "language_info": {
      "name": "python"
    }
  },
  "nbformat": 4,
  "nbformat_minor": 0
}